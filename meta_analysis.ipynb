{
 "cells": [
  {
   "cell_type": "code",
   "execution_count": null,
   "metadata": {},
   "outputs": [],
   "source": [
    "# from rw_ve_plot import *\n",
    "import numpy as np\n",
    "import matplotlib.pyplot as plt\n",
    "import pandas as pd\n",
    "import PythonMeta as PMA\n",
    "%load_ext autoreload\n",
    "%autoreload 2\n",
    "plt.style.use(r\"./RW_visualization.mplstyle\")\n"
   ]
  },
  {
   "cell_type": "code",
   "execution_count": 2,
   "metadata": {},
   "outputs": [],
   "source": [
    "# import warnings filter\n",
    "# from pandas.core.common import SettingWithCopyWarning\n",
    "import warnings\n",
    "from warnings import simplefilter\n",
    "# ignore all future warnings\n",
    "simplefilter(action='ignore', category=FutureWarning)\n",
    "\n",
    "\n",
    "# warnings.simplefilter(action=\"ignore\", category=SettingWithCopyWarning)\n",
    "pd.options.mode.chained_assignment = None "
   ]
  },
  {
   "cell_type": "code",
   "execution_count": 3,
   "metadata": {},
   "outputs": [],
   "source": [
    "# Run vaccine_efficacy_CIs.ipynb to update the data\n",
    "# df1 = pd.read_excel(r'C:\\Users\\dipes\\python\\jupyter_notebook_files\\Vaccine details.xlsx')\n",
    "vaccine_detail = pd.read_excel('rw_vaccine_details.xlsx')\n",
    "# vaccine_detail = pd.read_excel('./Vaccine/RW_vaccine_details.xlsx')\n",
    "vaccine_detail.columns = vaccine_detail.columns.str.strip().str.lower().str.replace(' ', '_').\\\n",
    "    str.replace('(', '').str.replace(')', '')\n",
    "\n",
    "# Remove all vaccine\n",
    "vaccine_detail = vaccine_detail[vaccine_detail.vaccine!='All vaccine']"
   ]
  },
  {
   "cell_type": "code",
   "execution_count": 4,
   "metadata": {},
   "outputs": [],
   "source": [
    "# Replace the vaccine efficacy and Ci by my estimations\n",
    "vaccine_detail['efficacy_in_%'] = vaccine_detail['rw_efficacy_in_%']\n",
    "vaccine_detail['lower'] = vaccine_detail['rw_lower']\n",
    "vaccine_detail['upper'] = vaccine_detail['rw_upper']"
   ]
  },
  {
   "cell_type": "code",
   "execution_count": 9,
   "metadata": {},
   "outputs": [],
   "source": [
    "# Drop empty vaccine efficacy\n",
    "df = vaccine_detail[~np.isnan(vaccine_detail['efficacy_in_%'])]"
   ]
  },
  {
   "cell_type": "code",
   "execution_count": null,
   "metadata": {},
   "outputs": [],
   "source": [
    "df"
   ]
  },
  {
   "cell_type": "code",
   "execution_count": 15,
   "metadata": {},
   "outputs": [],
   "source": [
    "meta_df = pd.DataFrame({\n",
    "        'study': df['reference'],  # Study identifier\n",
    "        'vax_n': df['no_of_participants_in_vaccine_group'],  # Vaccine group size\n",
    "        'vax_cases': df['no_of_infected_in_vaccine_group'],  # Cases in vaccine group\n",
    "        'ctrl_n': df['no_of_participants_in_placebo_groupcontrol_group'],  # Control group size\n",
    "        'ctrl_cases': df['no_of_infected_in_placebo_group'],  # Cases in control group\n",
    "        'vaccine': df['vaccine'],  # Vaccine type\n",
    "        'variant': df['variant'],  # Virus variant\n",
    "        'ave': df['ave']  # Type of vaccine efficacy measured\n",
    "    })"
   ]
  },
  {
   "cell_type": "code",
   "execution_count": null,
   "metadata": {},
   "outputs": [],
   "source": [
    "meta_df"
   ]
  },
  {
   "cell_type": "code",
   "execution_count": 17,
   "metadata": {},
   "outputs": [],
   "source": [
    "# Convert numeric columns to appropriate type\n",
    "numeric_cols = ['vax_n', 'vax_cases', 'ctrl_n', 'ctrl_cases']\n",
    "for col in numeric_cols:\n",
    "    meta_df[col] = pd.to_numeric(meta_df[col], errors='coerce')"
   ]
  },
  {
   "cell_type": "code",
   "execution_count": null,
   "metadata": {},
   "outputs": [],
   "source": [
    "meta_df"
   ]
  },
  {
   "cell_type": "code",
   "execution_count": 27,
   "metadata": {},
   "outputs": [],
   "source": [
    "def showstudies(studies,dtype):    \n",
    "    #show continuous data\n",
    "    if dtype.upper()==\"CONT\":\n",
    "        text = \"%-10s %-30s %-30s \\n\"%(\"Study ID\",\"Experiment Group\",\"Control Group\")\n",
    "        text += \"%-10s %-10s %-10s %-10s %-10s %-10s %-10s \\n\"%(\" \",\"m1\",\"sd1\",\"n1\",\"m2\",\"sd2\",\"n2\")\n",
    "        for i in range(len(studies)):\n",
    "            text += \"%-10s %-10s %-10s %-10s %-10s  %-10s %-10s \\n\"%(\n",
    "            studies[i][6],        #study ID\n",
    "            str(studies[i][0]),   #mean of group1\n",
    "            str(studies[i][1]),   #SD of group1\n",
    "            str(studies[i][2]),   #total num of group1\n",
    "            str(studies[i][3]),   #mean of group2\n",
    "            str(studies[i][4]),   #SD of group2\n",
    "            str(studies[i][5])    #total num of group2\n",
    "            )\n",
    "        return text\n",
    "        \n",
    "    #show dichotomous data\n",
    "    text = \"%-10s %-20s %-20s \\n\"%(\"Study ID\",\"Experiment Group\",\"Control Group\")\n",
    "    text += \"%-10s %-10s %-10s %-10s %-10s \\n\"%(\" \",\"e1\",\"n1\",\"e2\",\"n2\")\n",
    "    for i in range(len(studies)):\n",
    "        text += \"%-10s %-10s %-10s %-10s %-10s \\n\"%(\n",
    "        studies[i][4],        #study ID\n",
    "        str(studies[i][0]),   #event num of group1\n",
    "        str(studies[i][1]),   #total num of group1\n",
    "        str(studies[i][2]),   #event num of group2\n",
    "        str(studies[i][3])    #total num of group2\n",
    "        )\n",
    "    return text\n",
    "\n",
    "def showresults(rults):\n",
    "    text = \"%-10s %-6s  %-18s %-10s\"%(\"Study ID\",\"n\",\"ES[95% CI]\",\"Weight(%)\\n\")    \n",
    "    for i in range(1,len(rults)):\n",
    "        text += \"%-10s %-6d  %-4.2f[%.2f %.2f]   %6.2f\\n\"%(   # for each study\n",
    "        rults[i][0],     #study ID\n",
    "        rults[i][5],     #total num\n",
    "        rults[i][1],     #effect size\n",
    "        rults[i][3],     #lower of CI\n",
    "        rults[i][4],     #higher of CI\n",
    "        100*(rults[i][2]/rults[0][2])  #weight\n",
    "        )\n",
    "    text += \"%-10s %-6d  %-4.2f[%.2f %.2f]   %6d\\n\"%(         # for total effect\n",
    "        rults[0][0],     #total effect size name\n",
    "        rults[0][5],     #total N (all studies)\n",
    "        rults[0][1],     #total effect size\n",
    "        rults[0][3],     #total lower CI\n",
    "        rults[0][4],     #total higher CI\n",
    "        100\n",
    "        )  \n",
    "    text += \"%d studies included (N=%d)\\n\"%(len(rults)-1,rults[0][5])\n",
    "    text += \"Heterogeneity: Tau\\u00b2=%.3f \"%(rults[0][12]) if not rults[0][12]==None else \"Heterogeneity: \"\n",
    "    text += \"Q(Chisquare)=%.2f(p=%s); I\\u00b2=%s\\n\"%(\n",
    "        rults[0][7],     #Q test value\n",
    "        rults[0][8],     #p value for Q test\n",
    "        str(round(rults[0][9],2))+\"%\")   #I-square value\n",
    "    text += \"Overall effect test: z=%.2f, p=%s\\n\"%(rults[0][10],rults[0][11])  #z-test value and p-value\n",
    "    \n",
    "    return text"
   ]
  },
  {
   "cell_type": "code",
   "execution_count": null,
   "metadata": {},
   "outputs": [],
   "source": [
    "import pandas as pd\n",
    "import numpy as np\n",
    "import PythonMeta as PMA\n",
    "\n",
    "def prepare_data_for_pythonmeta(excel_file, ave, variant='SARS-CoV-2'):\n",
    "    # Read the Excel file\n",
    "    df = pd.read_excel(excel_file)\n",
    "    \n",
    "    # Replace 'X' with NaN\n",
    "    df = df.replace('X', np.nan)\n",
    "    \n",
    "    df = df[df['ave']==ave]\n",
    "    df = df[df['variant']==variant]\n",
    "\n",
    "    # Convert numeric columns to appropriate type\n",
    "    numeric_cols = ['no_of_participants_in_vaccine_group', 'no_of_infected_in_vaccine_group',\n",
    "                   'no_of_participants_in_placebo_groupcontrol_group', 'no_of_infected_in_placebo_group']\n",
    "    for col in numeric_cols:\n",
    "        df[col] = pd.to_numeric(df[col], errors='coerce')\n",
    "    \n",
    "    # Create formatted strings for PythonMeta\n",
    "    study_strings = []\n",
    "    for _, row in df.iterrows():\n",
    "        if pd.notna(row['no_of_infected_in_vaccine_group']) and pd.notna(row['no_of_infected_in_placebo_group']):\n",
    "            study_string = f\"{row['reference']}, {int(row['no_of_infected_in_vaccine_group'])}, {int(row['no_of_participants_in_vaccine_group'])}, {int(row['no_of_infected_in_placebo_group'])}, {int(row['no_of_participants_in_placebo_groupcontrol_group'])}\"\n",
    "            study_strings.append(study_string)\n",
    "    \n",
    "    return study_strings\n",
    "\n",
    "# Prepare the data\n",
    "study_data = prepare_data_for_pythonmeta('rw_vaccine_details.xlsx', ave='Symptomatic')\n",
    "\n",
    "# Set up the analysis settings\n",
    "settings = {\n",
    "    \"datatype\": \"CATE\",  # for CATEgorical/binary data\n",
    "    \"models\": \"Random\",  # Random effects model\n",
    "    \"algorithm\": \"MH\",   # Mantel-Haenszel method\n",
    "    \"effect\": \"RR\"      # Risk Ratio as effect measure\n",
    "}\n",
    "\n",
    "# Run the meta-analysis\n",
    "def run_meta_analysis(study_data, settings):\n",
    "    d = PMA.Data()  # Load Data class\n",
    "    m = PMA.Meta()  # Load Meta class\n",
    "    f = PMA.Fig()   # Load Fig class\n",
    "    \n",
    "    # Set data type\n",
    "    d.datatype = settings[\"datatype\"]\n",
    "    \n",
    "    # Load data\n",
    "    studies = d.getdata(study_data)\n",
    "    print(\"Studies included:\")\n",
    "    print(showstudies(studies, d.datatype))\n",
    "    \n",
    "    # Set meta-analysis parameters\n",
    "    m.datatype = d.datatype\n",
    "    m.models = settings[\"models\"]\n",
    "    m.algorithm = settings[\"algorithm\"]\n",
    "    m.effect = settings[\"effect\"]\n",
    "    \n",
    "    # Perform the analysis\n",
    "    results = m.meta(studies)\n",
    "    \n",
    "    # Show results\n",
    "    print(f\"\\n{m.models} {m.algorithm} {m.effect} Meta-Analysis Results:\")\n",
    "    print(showresults(results))\n",
    "    \n",
    "    # Generate plots\n",
    "    f.forest(results).show()\n",
    "    f.funnel(results).show()\n",
    "    \n",
    "    # Perform Egger's test\n",
    "    print(\"\\nEgger's test results:\")\n",
    "    print(m.Eggers_test(results))\n",
    "\n",
    "# Run the analysis\n",
    "run_meta_analysis(study_data, settings)"
   ]
  }
 ],
 "metadata": {
  "interpreter": {
   "hash": "981c73eafd070d074423928c764bc0ec6070d0d9756257c8a20d4d497db442af"
  },
  "kernelspec": {
   "display_name": "Python 3",
   "language": "python",
   "name": "python3"
  },
  "language_info": {
   "codemirror_mode": {
    "name": "ipython",
    "version": 3
   },
   "file_extension": ".py",
   "mimetype": "text/x-python",
   "name": "python",
   "nbconvert_exporter": "python",
   "pygments_lexer": "ipython3",
   "version": "3.10.11"
  }
 },
 "nbformat": 4,
 "nbformat_minor": 4
}
