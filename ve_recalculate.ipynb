{
 "cells": [
  {
   "cell_type": "code",
   "execution_count": 1,
   "metadata": {},
   "outputs": [],
   "source": [
    "from rw_ve_plot import *\n",
    "import seaborn as sns\n",
    "import pandas as pd\n",
    "import numpy as np\n",
    "import matplotlib.pyplot as plt\n",
    "from pylab import rcParams\n",
    "plt.style.use('RW_visualization.mplstyle')\n"
   ]
  },
  {
   "cell_type": "code",
   "execution_count": 2,
   "metadata": {},
   "outputs": [],
   "source": [
    "# import warnings filter\n",
    "from pandas.errors import SettingWithCopyWarning\n",
    "import warnings\n",
    "from warnings import simplefilter\n",
    "# ignore all future warnings\n",
    "simplefilter(action='ignore', category=FutureWarning)\n",
    "\n",
    "\n",
    "warnings.simplefilter(action=\"ignore\", category=SettingWithCopyWarning)\n"
   ]
  },
  {
   "attachments": {},
   "cell_type": "markdown",
   "metadata": {},
   "source": [
    "Load data"
   ]
  },
  {
   "cell_type": "code",
   "execution_count": null,
   "metadata": {},
   "outputs": [],
   "source": [
    "# df1 = pd.read_excel(r'C:\\Users\\dipes\\python\\jupyter_notebook_files\\Vaccine details.xlsx')\n",
    "vaccine_detail = pd.read_excel('vaccine_details.xlsx')\n",
    "vaccine_detail.columns = vaccine_detail.columns.str.strip().str.lower().str.replace(' ', '_').\\\n",
    "    str.replace('(', '').str.replace(')', '')\n",
    "\n",
    "# Remove all vaccine rows\n",
    "vaccine_detail = vaccine_detail[~(vaccine_detail['vaccine']=='All vaccine')]\n",
    "\n",
    "vaccine_detail['method_to_calculate_ve'] = vaccine_detail['method_to_calculate_ve'].replace('1- adj relative risk', '1-relative risk') \n"
   ]
  },
  {
   "attachments": {},
   "cell_type": "markdown",
   "metadata": {},
   "source": [
    "Calculate vaccine efficacy and CIs by relative risk and poission regression with robust error variance if no 0 in each group"
   ]
  },
  {
   "cell_type": "code",
   "execution_count": 4,
   "metadata": {},
   "outputs": [],
   "source": [
    "# Calculate vaccine efficacy and confidence interval\n",
    "RW_vaccine_efficacy = np.ones(len(vaccine_detail))*np.nan\n",
    "RW_lower = np.ones(len(vaccine_detail))*np.nan\n",
    "RW_higher = np.ones(len(vaccine_detail))*np.nan\n",
    "for i, row in vaccine_detail.iterrows():\n",
    "    xv = row['no_of_participants_in_vaccine_group']\n",
    "    xp = row['no_of_participants_in_placebo_groupcontrol_group']\n",
    "    xve = row['no_of_infected_in_vaccine_group']\n",
    "    xpe = row['no_of_infected_in_placebo_group']\n",
    "    if xve != 'X':\n",
    "        # Relative risk\n",
    "        r1 = xve/xv\n",
    "        r2 = xpe/xp\n",
    "        theta = r1/r2\n",
    "        VE = 1-theta\n",
    "        RW_vaccine_efficacy[i] = VE\n",
    "        if (xve != 0) & (xpe != 0):\n",
    "            # Poisson regression with robust error variance\n",
    "            variance = 1/xve - 1/xv + 1/xpe - 1/xp\n",
    "            se = np.sqrt(variance)\n",
    "            RW_lower[i] = 1-theta*np.exp(1.96*se)\n",
    "            RW_higher[i] = 1-theta*np.exp(-1.96*se)\n",
    "        else:\n",
    "            RW_lower[i] = 0\n",
    "            RW_higher[i] = 0\n"
   ]
  },
  {
   "cell_type": "code",
   "execution_count": 5,
   "metadata": {},
   "outputs": [],
   "source": [
    "# Append my result to the table\n",
    "vaccine_detail['RW_efficacy_in_%'] = RW_vaccine_efficacy*100\n",
    "vaccine_detail['RW_lower'] = RW_lower*100\n",
    "vaccine_detail['RW_upper'] = RW_higher*100\n",
    "\n",
    "vaccine_detail.to_excel('rw_vaccine_details.xlsx')\n"
   ]
  },
  {
   "cell_type": "code",
   "execution_count": 6,
   "metadata": {},
   "outputs": [],
   "source": [
    "# Extract references array\n",
    "import re\n",
    "references = np.array([])\n",
    "for i in vaccine_detail['reference'].str.split('_'):\n",
    "    reference = i[0]\n",
    "    reference = re.sub(\"[A-Za-z]+\", lambda ele: \" \" + ele[0] + \" et al. \", reference)\n",
    "    references = np.append(references, reference)"
   ]
  },
  {
   "cell_type": "code",
   "execution_count": 7,
   "metadata": {},
   "outputs": [],
   "source": [
    "# Correct article's vaccine efficacy label\n",
    "for i in range(len(vaccine_detail)):\n",
    "    efficacy_method = vaccine_detail.method_to_calculate_ve.loc[i]\n",
    "    for j, word in enumerate(efficacy_method):\n",
    "        if word.isalpha() == True:\n",
    "            efficacy_method = efficacy_method[j::]\n",
    "            efficacy_method = efficacy_method[0].upper() + efficacy_method[1::]\n",
    "            vaccine_detail.method_to_calculate_ve.loc[i] = efficacy_method\n",
    "            break\n",
    "\n",
    "paper_ve_methods = vaccine_detail.method_to_calculate_ve.to_numpy()\n",
    "paper_ve_methods[paper_ve_methods == 'X'] = 'Not specify'"
   ]
  },
  {
   "cell_type": "code",
   "execution_count": 8,
   "metadata": {},
   "outputs": [],
   "source": [
    "# Correct article's CI label\n",
    "for i in range(len(vaccine_detail)):\n",
    "    CI = vaccine_detail.method_to_calculate_ci.loc[i]\n",
    "    CI = CI[0].upper() + CI[1::]\n",
    "    vaccine_detail.method_to_calculate_ci.loc[i] = CI\n",
    "\n",
    "paper_ci_methods = vaccine_detail.method_to_calculate_ci.to_numpy()\n",
    "paper_ci_methods[paper_ci_methods == 'X'] = 'Not specify'\n",
    "# paper_ci_methods[paper_ci_methods ==\n",
    "#                  \"Stratified Cox proportional-hazards model with Efron's method of tie handling\"] = 'Cox proportional-hazards'\n",
    "# paper_ci_methods[paper_ci_methods == 'Poisson regression with robust error variance'] = 'Poisson regression'"
   ]
  },
  {
   "attachments": {},
   "cell_type": "markdown",
   "metadata": {},
   "source": [
    "Plot my CIs vs paper's CIs"
   ]
  },
  {
   "cell_type": "code",
   "execution_count": null,
   "metadata": {},
   "outputs": [],
   "source": [
    "vaccine_detail.columns\n"
   ]
  },
  {
   "cell_type": "code",
   "execution_count": 10,
   "metadata": {},
   "outputs": [],
   "source": [
    "# Clean nan\n",
    "RW_vaccine_efficacy = vaccine_detail['RW_efficacy_in_%'].to_numpy()\n",
    "nan_map = np.isnan(RW_vaccine_efficacy)\n",
    "RW_vaccine_efficacy = RW_vaccine_efficacy[~nan_map]\n",
    "\n",
    "paper_vaccine_efficacy = vaccine_detail['efficacy_in_%'].to_numpy()\n",
    "paper_vaccine_efficacy = paper_vaccine_efficacy[~nan_map]\n",
    "\n",
    "\n",
    "paper_lower_bound = vaccine_detail['lower'].to_numpy()\n",
    "paper_lower_bound[paper_lower_bound == 'X'] = 0\n",
    "paper_lower_bound = paper_lower_bound[~nan_map]\n",
    "\n",
    "paper_upper_bound = vaccine_detail['upper'].to_numpy()\n",
    "paper_upper_bound[paper_upper_bound == 'X'] = 0\n",
    "paper_upper_bound = paper_upper_bound[~nan_map]\n",
    "\n",
    "RW_vaccine_efficacy = vaccine_detail['RW_efficacy_in_%'].to_numpy()\n",
    "RW_vaccine_efficacy = RW_vaccine_efficacy[~nan_map]\n",
    "\n",
    "RW_lower_bound = vaccine_detail['RW_lower'].to_numpy()\n",
    "RW_lower_bound = RW_lower_bound[~nan_map]\n",
    "\n",
    "RW_upper_bound = vaccine_detail['RW_upper'].to_numpy()\n",
    "RW_upper_bound = RW_upper_bound[~nan_map]\n",
    "\n",
    "paper_ve_methods = paper_ve_methods[~nan_map]\n",
    "paper_ci_methods = paper_ci_methods[~nan_map]\n",
    "references = references[~nan_map]"
   ]
  },
  {
   "cell_type": "code",
   "execution_count": null,
   "metadata": {},
   "outputs": [],
   "source": [
    "plot_compare_reproduced_vaccine_efficacy_scalar_plot(paper_vaccine_efficacy, paper_lower_bound, paper_upper_bound, \\\n",
    "    paper_ve_methods, paper_ci_methods, \\\n",
    "    RW_vaccine_efficacy, RW_lower_bound, RW_upper_bound, save_fig=False)"
   ]
  },
  {
   "cell_type": "code",
   "execution_count": null,
   "metadata": {},
   "outputs": [],
   "source": [
    "plot_compare_reproduced_vaccine_efficacy_error_bar_plot(paper_vaccine_efficacy, paper_lower_bound,\n",
    "                                                            paper_upper_bound, paper_ve_methods, paper_ci_methods,\n",
    "                                                            RW_vaccine_efficacy, RW_lower_bound, RW_upper_bound, \n",
    "                                                            references, save_fig=False)"
   ]
  },
  {
   "cell_type": "code",
   "execution_count": null,
   "metadata": {},
   "outputs": [],
   "source": [
    "print(f'Total number of recalibrated VE: {len(paper_vaccine_efficacy)}')\n",
    "ve_difference = paper_vaccine_efficacy-RW_vaccine_efficacy\n",
    "ve_index = np.argsort(ve_difference)\n",
    "\n",
    "data = {'ve_difference': ve_difference, 'rw_ve': RW_vaccine_efficacy, 'paper_ve_methods': paper_ve_methods, 'paper_ci_methods': paper_ci_methods, 'reference': references}\n",
    "df = pd.DataFrame(data)\n",
    "print(df[abs(df['ve_difference']) > 3])\n"
   ]
  },
  {
   "cell_type": "code",
   "execution_count": null,
   "metadata": {},
   "outputs": [],
   "source": [
    "np.unique(paper_ve_methods)"
   ]
  },
  {
   "cell_type": "code",
   "execution_count": null,
   "metadata": {},
   "outputs": [],
   "source": [
    "fig1 = different_between_efficacy(paper_vaccine_efficacy, paper_ve_methods, RW_vaccine_efficacy, save_fig=False)"
   ]
  },
  {
   "cell_type": "code",
   "execution_count": null,
   "metadata": {},
   "outputs": [],
   "source": [
    "distance_between_CI(paper_vaccine_efficacy, paper_lower_bound,\n",
    "                    paper_upper_bound, paper_ve_methods, paper_ci_methods,\n",
    "                    RW_vaccine_efficacy, RW_lower_bound, RW_upper_bound,\n",
    "                    save_fig=False)"
   ]
  }
 ],
 "metadata": {
  "kernelspec": {
   "display_name": "Python 3.9.2 64-bit",
   "language": "python",
   "name": "python3"
  },
  "language_info": {
   "codemirror_mode": {
    "name": "ipython",
    "version": 3
   },
   "file_extension": ".py",
   "mimetype": "text/x-python",
   "name": "python",
   "nbconvert_exporter": "python",
   "pygments_lexer": "ipython3",
   "version": "3.10.11"
  },
  "vscode": {
   "interpreter": {
    "hash": "981c73eafd070d074423928c764bc0ec6070d0d9756257c8a20d4d497db442af"
   }
  }
 },
 "nbformat": 4,
 "nbformat_minor": 4
}
