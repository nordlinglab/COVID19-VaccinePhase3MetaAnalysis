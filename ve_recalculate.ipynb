{
 "cells": [
  {
   "cell_type": "code",
   "execution_count": 2,
   "metadata": {},
   "outputs": [],
   "source": [
    "from rw_ve_plot import *\n",
    "import seaborn as sns\n",
    "import pandas as pd\n",
    "import numpy as np\n",
    "import matplotlib.pyplot as plt\n",
    "from pylab import rcParams\n",
    "plt.style.use('RW_visualization.mplstyle')\n"
   ]
  },
  {
   "cell_type": "code",
   "execution_count": 3,
   "metadata": {},
   "outputs": [],
   "source": [
    "# import warnings filter\n",
    "from pandas.errors import SettingWithCopyWarning\n",
    "import warnings\n",
    "from warnings import simplefilter\n",
    "# ignore all future warnings\n",
    "simplefilter(action='ignore', category=FutureWarning)\n",
    "\n",
    "\n",
    "warnings.simplefilter(action=\"ignore\", category=SettingWithCopyWarning)\n"
   ]
  },
  {
   "attachments": {},
   "cell_type": "markdown",
   "metadata": {},
   "source": [
    "Load data"
   ]
  },
  {
   "cell_type": "code",
   "execution_count": null,
   "metadata": {},
   "outputs": [],
   "source": [
    "# df1 = pd.read_excel(r'C:\\Users\\dipes\\python\\jupyter_notebook_files\\Vaccine details.xlsx')\n",
    "vaccine_detail = pd.read_excel('vaccine_details.xlsx')\n",
    "vaccine_detail.columns = vaccine_detail.columns.str.strip().str.lower().str.replace(' ', '_').\\\n",
    "    str.replace('(', '').str.replace(')', '')\n",
    "\n",
    "# Remove all vaccine rows\n",
    "vaccine_detail = vaccine_detail[~(vaccine_detail['vaccine']=='All vaccine')]\n",
    "\n",
    "vaccine_detail['method_to_calculate_ve'] = vaccine_detail['method_to_calculate_ve'].replace('1- adj relative risk', '1-relative risk') \n"
   ]
  },
  {
   "attachments": {},
   "cell_type": "markdown",
   "metadata": {},
   "source": [
    "Calculate vaccine efficacy and CIs by relative risk and poission regression with robust error variance if no 0 in each group"
   ]
  },
  {
   "cell_type": "code",
   "execution_count": 5,
   "metadata": {},
   "outputs": [],
   "source": [
    "zero_adjust = True # Add 0.5 to zero values base on Pagano & Gauvreau, 2000; Deeks & Higgins, 2010\n",
    "\n",
    "# Calculate vaccine efficacy and confidence interval\n",
    "RW_vaccine_efficacy = np.ones(len(vaccine_detail))*np.nan\n",
    "RW_lower = np.ones(len(vaccine_detail))*np.nan\n",
    "RW_higher = np.ones(len(vaccine_detail))*np.nan\n",
    "for i, row in vaccine_detail.iterrows():\n",
    "    xv = row['no_of_participants_in_vaccine_group']\n",
    "    xp = row['no_of_participants_in_placebo_groupcontrol_group']\n",
    "    xve = row['no_of_infected_in_vaccine_group']\n",
    "    xpe = row['no_of_infected_in_placebo_group']\n",
    "    if xve != 'X':\n",
    "        if zero_adjust:\n",
    "            # Relative risk\n",
    "            # Pagano & Gauvreau, 2000; Deeks & Higgins, 2010\n",
    "            if xve == 0 or xpe == 0:\n",
    "                xve += 0.5\n",
    "                xpe += 0.5\n",
    "                xv += 1\n",
    "                xp += 1\n",
    "            r1 = xve/xv\n",
    "            r2 = xpe/xp\n",
    "            theta = r1/r2\n",
    "            VE = 1-theta\n",
    "            RW_vaccine_efficacy[i] = VE\n",
    "            variance = 1/xve - 1/xv + 1/xpe - 1/xp\n",
    "            se = np.sqrt(variance)\n",
    "            RW_lower[i] = 1-theta*np.exp(1.96*se)\n",
    "            RW_higher[i] = 1-theta*np.exp(-1.96*se)\n",
    "        else:\n",
    "            r1 = xve/xv\n",
    "            r2 = xpe/xp\n",
    "            theta = r1/r2\n",
    "            VE = 1-theta\n",
    "            RW_vaccine_efficacy[i] = VE\n",
    "            if (xve != 0) & (xpe != 0):\n",
    "                variance = 1/xve - 1/xv + 1/xpe - 1/xp\n",
    "                se = np.sqrt(variance)\n",
    "                RW_lower[i] = 1-theta*np.exp(1.96*se)\n",
    "                RW_higher[i] = 1-theta*np.exp(-1.96*se)\n",
    "            else:\n",
    "                RW_lower[i] = 0\n",
    "                RW_higher[i] = 0\n",
    "\n",
    "        "
   ]
  },
  {
   "cell_type": "code",
   "execution_count": 6,
   "metadata": {},
   "outputs": [],
   "source": [
    "# Append my result to the table\n",
    "vaccine_detail['RW_efficacy_in_%'] = RW_vaccine_efficacy*100\n",
    "vaccine_detail['RW_lower'] = RW_lower*100\n",
    "vaccine_detail['RW_upper'] = RW_higher*100\n",
    "\n",
    "vaccine_detail.to_excel('rw_vaccine_details.xlsx')\n"
   ]
  },
  {
   "cell_type": "code",
   "execution_count": 7,
   "metadata": {},
   "outputs": [],
   "source": [
    "# Extract references array\n",
    "import re\n",
    "references = np.array([])\n",
    "for i in vaccine_detail['reference'].str.split('_'):\n",
    "    reference = i[0]\n",
    "    reference = re.sub(\"[A-Za-z]+\", lambda ele: \" \" + ele[0] + \" et al. \", reference)\n",
    "    references = np.append(references, reference)"
   ]
  },
  {
   "cell_type": "code",
   "execution_count": 8,
   "metadata": {},
   "outputs": [],
   "source": [
    "# Correct article's vaccine efficacy label\n",
    "for i in range(len(vaccine_detail)):\n",
    "    efficacy_method = vaccine_detail.method_to_calculate_ve.loc[i]\n",
    "    for j, word in enumerate(efficacy_method):\n",
    "        if word.isalpha() == True:\n",
    "            efficacy_method = efficacy_method[j::]\n",
    "            efficacy_method = efficacy_method[0].upper() + efficacy_method[1::]\n",
    "            vaccine_detail.method_to_calculate_ve.loc[i] = efficacy_method\n",
    "            break\n",
    "\n",
    "paper_ve_methods = vaccine_detail.method_to_calculate_ve.to_numpy()\n",
    "paper_ve_methods[paper_ve_methods == 'X'] = 'Not specify'"
   ]
  },
  {
   "cell_type": "code",
   "execution_count": 9,
   "metadata": {},
   "outputs": [],
   "source": [
    "# Correct article's CI label\n",
    "for i in range(len(vaccine_detail)):\n",
    "    CI = vaccine_detail.method_to_calculate_ci.loc[i]\n",
    "    CI = CI[0].upper() + CI[1::]\n",
    "    vaccine_detail.method_to_calculate_ci.loc[i] = CI\n",
    "\n",
    "paper_ci_methods = vaccine_detail.method_to_calculate_ci.to_numpy()\n",
    "paper_ci_methods[paper_ci_methods == 'X'] = 'Not specify'\n",
    "# paper_ci_methods[paper_ci_methods ==\n",
    "#                  \"Stratified Cox proportional-hazards model with Efron's method of tie handling\"] = 'Cox proportional-hazards'\n",
    "# paper_ci_methods[paper_ci_methods == 'Poisson regression with robust error variance'] = 'Poisson regression'"
   ]
  },
  {
   "attachments": {},
   "cell_type": "markdown",
   "metadata": {},
   "source": [
    "Plot my CIs vs paper's CIs"
   ]
  },
  {
   "cell_type": "code",
   "execution_count": null,
   "metadata": {},
   "outputs": [],
   "source": [
    "vaccine_detail.columns\n"
   ]
  },
  {
   "cell_type": "code",
   "execution_count": 11,
   "metadata": {},
   "outputs": [],
   "source": [
    "# Clean nan\n",
    "RW_vaccine_efficacy = vaccine_detail['RW_efficacy_in_%'].to_numpy()\n",
    "nan_map = np.isnan(RW_vaccine_efficacy)\n",
    "RW_vaccine_efficacy = RW_vaccine_efficacy[~nan_map]\n",
    "\n",
    "paper_vaccine_efficacy = vaccine_detail['efficacy_in_%'].to_numpy()\n",
    "paper_vaccine_efficacy = paper_vaccine_efficacy[~nan_map]\n",
    "\n",
    "\n",
    "paper_lower_bound = vaccine_detail['lower'].to_numpy()\n",
    "paper_lower_bound = paper_lower_bound[~nan_map]\n",
    "paper_lower_bound[paper_lower_bound == 'X'] = paper_vaccine_efficacy[paper_lower_bound == 'X']\n",
    "\n",
    "paper_upper_bound = vaccine_detail['upper'].to_numpy()\n",
    "paper_upper_bound = paper_upper_bound[~nan_map]\n",
    "paper_upper_bound[paper_upper_bound == 'X'] = paper_vaccine_efficacy[paper_upper_bound == 'X']\n",
    "\n",
    "RW_vaccine_efficacy = vaccine_detail['RW_efficacy_in_%'].to_numpy()\n",
    "RW_vaccine_efficacy = RW_vaccine_efficacy[~nan_map]\n",
    "\n",
    "RW_lower_bound = vaccine_detail['RW_lower'].to_numpy()\n",
    "RW_lower_bound = RW_lower_bound[~nan_map]\n",
    "\n",
    "RW_upper_bound = vaccine_detail['RW_upper'].to_numpy()\n",
    "RW_upper_bound = RW_upper_bound[~nan_map]\n",
    "\n",
    "paper_ve_methods = paper_ve_methods[~nan_map]\n",
    "paper_ci_methods = paper_ci_methods[~nan_map]\n",
    "references = references[~nan_map]"
   ]
  },
  {
   "cell_type": "code",
   "execution_count": null,
   "metadata": {},
   "outputs": [],
   "source": [
    "plot_compare_reproduced_vaccine_efficacy_scalar_plot(paper_vaccine_efficacy, paper_lower_bound, paper_upper_bound, \\\n",
    "    paper_ve_methods, paper_ci_methods, \\\n",
    "    RW_vaccine_efficacy, RW_lower_bound, RW_upper_bound, save_fig=False)"
   ]
  },
  {
   "cell_type": "code",
   "execution_count": null,
   "metadata": {},
   "outputs": [],
   "source": [
    "plot_compare_reproduced_vaccine_efficacy_error_bar_plot(paper_vaccine_efficacy, paper_lower_bound,\n",
    "                                                            paper_upper_bound, paper_ve_methods, paper_ci_methods,\n",
    "                                                            RW_vaccine_efficacy, RW_lower_bound, RW_upper_bound, \n",
    "                                                            references, save_fig=False)"
   ]
  },
  {
   "cell_type": "code",
   "execution_count": null,
   "metadata": {},
   "outputs": [],
   "source": [
    "print(f'Total number of recalibrated VE: {len(paper_vaccine_efficacy)}')\n",
    "ve_difference = paper_vaccine_efficacy-RW_vaccine_efficacy\n",
    "ve_index = np.argsort(ve_difference)\n",
    "\n",
    "data = {'ve_difference': ve_difference, 'rw_ve': RW_vaccine_efficacy, 'paper_ve_methods': paper_ve_methods, 'paper_ci_methods': paper_ci_methods, 'reference': references}\n",
    "df = pd.DataFrame(data)\n",
    "print(df[abs(df['ve_difference']) > 3])\n"
   ]
  },
  {
   "cell_type": "code",
   "execution_count": null,
   "metadata": {},
   "outputs": [],
   "source": [
    "np.unique(paper_ve_methods)"
   ]
  },
  {
   "cell_type": "code",
   "execution_count": null,
   "metadata": {},
   "outputs": [],
   "source": [
    "fig1 = different_between_efficacy(paper_vaccine_efficacy, paper_ve_methods, RW_vaccine_efficacy, save_fig=False)"
   ]
  },
  {
   "cell_type": "code",
   "execution_count": null,
   "metadata": {},
   "outputs": [],
   "source": [
    "# Remove the original 'X' cases.\n",
    "map_list = paper_vaccine_efficacy!=paper_lower_bound\n",
    "\n",
    "distance_between_CI(paper_vaccine_efficacy[map_list], paper_lower_bound[map_list],\n",
    "                    paper_upper_bound[map_list], paper_ve_methods[map_list], paper_ci_methods[map_list],\n",
    "                    RW_vaccine_efficacy[map_list], RW_lower_bound[map_list], RW_upper_bound[map_list],\n",
    "                    save_fig=True)"
   ]
  },
  {
   "cell_type": "code",
   "execution_count": null,
   "metadata": {},
   "outputs": [],
   "source": [
    "distance_between_VE_to_threshold(paper_vaccine_efficacy[map_list], paper_ve_methods[map_list],\n",
    "                                     RW_vaccine_efficacy[map_list], save_fig=False)\n"
   ]
  },
  {
   "cell_type": "code",
   "execution_count": null,
   "metadata": {},
   "outputs": [],
   "source": [
    "RW_lower_bound[RW_lower_bound<0]=0\n",
    "paper_lower_bound[paper_lower_bound<0]=0\n",
    "distance_between_lb_to_threshold(paper_vaccine_efficacy[map_list], paper_lower_bound[map_list],\n",
    "                    paper_upper_bound[map_list], paper_ve_methods[map_list], paper_ci_methods[map_list],\n",
    "                    RW_vaccine_efficacy[map_list], RW_lower_bound[map_list], RW_upper_bound[map_list],\n",
    "                    save_fig=False)"
   ]
  },
  {
   "cell_type": "markdown",
   "metadata": {},
   "source": [
    "## Funnel plot"
   ]
  },
  {
   "cell_type": "code",
   "execution_count": 158,
   "metadata": {},
   "outputs": [],
   "source": [
    "# def create_ve_difference_funnel_plot(paper_ve, recalc_ve, sample_sizes, paper_ve_methods=None, save_fig=True):\n",
    "#     \"\"\"\n",
    "#     Create a funnel plot to assess publication bias using differences between reported and recalculated VE.\n",
    "    \n",
    "#     Parameters:\n",
    "#     -----------\n",
    "#     paper_ve : array-like\n",
    "#         The original reported vaccine efficacy values\n",
    "#     recalc_ve : array-like\n",
    "#         The recalculated vaccine efficacy values\n",
    "#     sample_sizes : array-like\n",
    "#         The sample sizes for each study\n",
    "#     paper_ve_methods : array-like, optional\n",
    "#         The methods used for calculating VE in each study\n",
    "#     save_fig : bool, optional\n",
    "#         Whether to save the figure (default True)\n",
    "#     \"\"\"\n",
    "#     # paper_ve = vaccine_detail['efficacy_in_%']\n",
    "#     # recalc_ve = vaccine_detail['RW_efficacy_in_%']\n",
    "#     # sample_sizes = np.array(vaccine_detail['no_of_participants_in_vaccine_group']) + np.array(vaccine_detail['no_of_participants_in_placebo_groupcontrol_group']) + np.array(vaccine_detail['no_of_infected_in_vaccine_group']) + np.array(vaccine_detail['no_of_infected_in_placebo_group'])\n",
    "#     # # Convert inputs to numpy arrays\n",
    "#     paper_ve = np.array(paper_ve, dtype=float)\n",
    "#     recalc_ve = np.array(recalc_ve, dtype=float)\n",
    "#     sample_sizes = np.array(sample_sizes, dtype=float)\n",
    "    \n",
    "#     # Calculate VE differences\n",
    "#     ve_differences = paper_ve - recalc_ve\n",
    "    \n",
    "#     # Calculate standard error for the difference\n",
    "#     # Using pooled standard error for difference between two proportions\n",
    "#     # print((paper_ve/100 * (1-paper_ve/100))/sample_sizes)\n",
    "#     se_paper = np.sqrt((paper_ve/100 * (1-paper_ve/100)) / sample_sizes)\n",
    "#     se_recalc = np.sqrt((recalc_ve/100 * (1-recalc_ve/100)) / sample_sizes)\n",
    "#     standard_errors = np.sqrt(se_paper**2 + se_recalc**2)\n",
    "#     # print(standard_errors)\n",
    "#     # Create the funnel plot\n",
    "#     fig, ax = plt.subplots(figsize=(12, 8))\n",
    "    \n",
    "#     if paper_ve_methods is not None:\n",
    "#         # Create color palette for different methods\n",
    "#         unique_methods = np.unique(paper_ve_methods)\n",
    "#         palette = sns.color_palette('Set2', n_colors=len(unique_methods))\n",
    "#         colors = {method: color for method, color in zip(unique_methods, palette)}\n",
    "        \n",
    "#         # Plot points with different colors for different methods\n",
    "#         for method in unique_methods:\n",
    "#             mask = paper_ve_methods == method\n",
    "#             ax.scatter(ve_differences[mask], standard_errors[mask], \n",
    "#                       alpha=0.6, label=method, color=colors[method])\n",
    "#         plt.legend(title='VE Methods', bbox_to_anchor=(1.05, 1), loc='upper left')\n",
    "#     else:\n",
    "#         # Plot all points in same color if no methods provided\n",
    "#         ax.scatter(ve_differences, standard_errors, alpha=0.6, color='blue')\n",
    "    \n",
    "#     # Calculate and plot mean difference\n",
    "#     mean_diff = np.mean(ve_differences)\n",
    "#     ax.axvline(mean_diff, linestyle='--', color='red', alpha=0.5, label='Mean Difference')\n",
    "    \n",
    "#     # Add reference line at zero difference\n",
    "#     ax.axvline(0, linestyle='-', color='gray', alpha=0.3, label='No Difference')\n",
    "    \n",
    "#     # Add pseudo confidence intervals\n",
    "#     se_range = np.linspace(0, max(standard_errors)*1.1, 100)\n",
    "#     plt.plot(mean_diff - 1.96 * se_range, se_range, 'k--', alpha=0.3)\n",
    "#     plt.plot(mean_diff + 1.96 * se_range, se_range, 'k--', alpha=0.3)\n",
    "#     # print(mean_diff - 1.96 * se_range, se_range, mean_diff + 1.96 * se_range)\n",
    "    \n",
    "#     # Customize the plot\n",
    "#     ax.set_title('Funnel Plot of Differences Between Reported and Recalculated VE', fontsize=12)\n",
    "#     ax.set_xlabel('VE Difference (Reported - Recalculated) (%)', fontsize=10)\n",
    "#     ax.set_ylabel('Standard Error', fontsize=10)\n",
    "    \n",
    "#     # Invert y-axis (standard in funnel plots)\n",
    "#     ax.invert_yaxis()\n",
    "    \n",
    "#     # Add grid\n",
    "#     ax.grid(True, alpha=0.3)\n",
    "    \n",
    "#     # # Add text box with summary statistics\n",
    "#     # stats_text = (f'Mean Difference: {mean_diff:.1f}%\\n'\n",
    "#                 #  f'Number of Studies: {len(ve_differences)}\\n'\n",
    "#     #              f'Sample Size Range: {min(sample_sizes):,} - {max(sample_sizes):,}\\n'\n",
    "#     #              f'Difference Range: {min(ve_differences):.1f}% to {max(ve_differences):.1f}%')\n",
    "    \n",
    "#     # ax.text(0.95, 0.95, stats_text,\n",
    "#     #         transform=ax.transAxes,\n",
    "#     #         verticalalignment='top',\n",
    "#     #         horizontalalignment='right',\n",
    "#     #         bbox=dict(boxstyle='round', facecolor='white', alpha=0.8))\n",
    "    \n",
    "#     # Adjust layout to prevent text overlap\n",
    "#     plt.tight_layout()\n",
    "    \n",
    "#     if save_fig:\n",
    "#         plt.savefig('ve_difference_funnel_plot.pdf', bbox_inches='tight', dpi=300)\n",
    "        \n",
    "#     # return fig"
   ]
  },
  {
   "cell_type": "code",
   "execution_count": null,
   "metadata": {},
   "outputs": [],
   "source": [
    "# vaccine_detail['ave'].unique()"
   ]
  },
  {
   "cell_type": "code",
   "execution_count": null,
   "metadata": {},
   "outputs": [],
   "source": [
    "# paper_ve = vaccine_detail['efficacy_in_%']\n",
    "# recalc_ve = vaccine_detail['RW_efficacy_in_%']\n",
    "# x_ve = vaccine_detail['no_of_participants_in_vaccine_group']\n",
    "# x_pe = vaccine_detail['no_of_participants_in_placebo_groupcontrol_group']\n",
    "# x_vn = vaccine_detail['no_of_infected_in_vaccine_group']\n",
    "# x_pn = vaccine_detail['no_of_infected_in_placebo_group']\n",
    "# ave_type = vaccine_detail['ave']\n",
    "# keep_map = (x_ve != 'X') & (x_pe != 'X') & (x_vn != 'X') & (x_pn != 'X') & (ave_type == 'Symptomatic')\n",
    "\n",
    "# paper_ve = paper_ve[keep_map]\n",
    "# recalc_ve = recalc_ve[keep_map]\n",
    "# x_ve = x_ve[keep_map]\n",
    "# x_pe = x_pe[keep_map]\n",
    "# x_vn = x_vn[keep_map]\n",
    "# x_pn = x_pn[keep_map]\n",
    "\n",
    "# sample_sizes = x_ve + x_pe + x_vn + x_pn\n",
    "\n",
    "# paper_ve_methods = vaccine_detail['method_to_calculate_ve'][keep_map]\n",
    "# print(len(paper_ve_methods))"
   ]
  },
  {
   "cell_type": "code",
   "execution_count": 187,
   "metadata": {},
   "outputs": [],
   "source": [
    "# create_ve_difference_funnel_plot(paper_ve, recalc_ve, sample_sizes, paper_ve_methods)"
   ]
  },
  {
   "cell_type": "code",
   "execution_count": 226,
   "metadata": {},
   "outputs": [],
   "source": [
    "# import numpy as np\n",
    "# import matplotlib.pyplot as plt\n",
    "# import seaborn as sns\n",
    "\n",
    "# def create_ve_funnel_plot(ve_values, sample_sizes, ve_methods=None, save_fig=True):\n",
    "#     \"\"\"\n",
    "#     Create a funnel plot to assess publication bias in vaccine efficacy studies.\n",
    "    \n",
    "#     Parameters:\n",
    "#     -----------\n",
    "#     ve_values : array-like\n",
    "#         The reported vaccine efficacy values as proportions (e.g., 0.95 for 95% VE)\n",
    "#     sample_sizes : array-like\n",
    "#         The sample sizes for each study\n",
    "#     ve_methods : array-like, optional\n",
    "#         The methods used for calculating VE in each study\n",
    "#     save_fig : bool, optional\n",
    "#         Whether to save the figure (default True)\n",
    "#     \"\"\"\n",
    "#     # Convert inputs to numpy arrays\n",
    "#     ve_values = np.array(ve_values, dtype=float)\n",
    "#     sample_sizes = np.array(sample_sizes, dtype=float)\n",
    "    \n",
    "#     # Calculate standard error for each study\n",
    "#     # Using SE formula for proportions: sqrt(p*(1-p)/n)\n",
    "#     standard_errors = np.sqrt((ve_values * (1-ve_values)) / sample_sizes)\n",
    "    \n",
    "#     # Create the funnel plot\n",
    "#     fig, ax = plt.subplots(figsize=(10, 8))\n",
    "    \n",
    "#     if ve_methods is not None:\n",
    "#         # Create color palette for different methods\n",
    "#         unique_methods = np.unique(ve_methods)\n",
    "#         palette = sns.color_palette('Set2', n_colors=len(unique_methods))\n",
    "#         colors = {method: color for method, color in zip(unique_methods, palette)}\n",
    "        \n",
    "#         # Plot points with different colors for different methods\n",
    "#         for method in unique_methods:\n",
    "#             mask = ve_methods == method\n",
    "#             ax.scatter(ve_values[mask], standard_errors[mask], \n",
    "#                       alpha=0.6, label=method, color=colors[method])\n",
    "#         plt.legend(title='VE Methods', bbox_to_anchor=(1.05, 1), loc='upper left')\n",
    "#     else:\n",
    "#         # Plot all points in same color if no methods provided\n",
    "#         ax.scatter(ve_values, standard_errors, alpha=0.6, color='blue')\n",
    "    \n",
    "#     # Calculate and plot mean effect\n",
    "#     mean_ve = np.mean(ve_values)\n",
    "#     ax.axvline(mean_ve, linestyle='--', color='red', alpha=0.5, label='Mean VE')\n",
    "    \n",
    "#     # Add pseudo confidence intervals\n",
    "#     se_range = np.linspace(0, max(standard_errors)*1.1, 100)\n",
    "#     plt.plot(mean_ve - 1.96 * se_range, se_range, 'k--', alpha=0.3)\n",
    "#     plt.plot(mean_ve + 1.96 * se_range, se_range, 'k--', alpha=0.3)\n",
    "    \n",
    "#     # Customize the plot\n",
    "#     ax.set_title('Funnel Plot of Vaccine Efficacy Studies', fontsize=12)\n",
    "#     ax.set_xlabel('Vaccine Efficacy (proportion)', fontsize=10)\n",
    "#     ax.set_ylabel('Standard Error', fontsize=10)\n",
    "    \n",
    "#     # Set reasonable x-axis limits for proportions\n",
    "#     plt.xlim(0, 1)\n",
    "    \n",
    "#     # Invert y-axis (standard in funnel plots)\n",
    "#     ax.invert_yaxis()\n",
    "    \n",
    "#     # Add grid\n",
    "#     ax.grid(True, alpha=0.3)\n",
    "    \n",
    "#     # Add summary statistics\n",
    "#     stats_text = (f'Mean VE: {mean_ve:.3f}\\n'\n",
    "#                  f'Number of Studies: {len(ve_values)}\\n'\n",
    "#                  f'Sample Size Range: {min(sample_sizes):,.0f} - {max(sample_sizes):,.0f}')\n",
    "    \n",
    "#     ax.text(0.95, 0.95, stats_text,\n",
    "#             transform=ax.transAxes,\n",
    "#             verticalalignment='top',\n",
    "#             horizontalalignment='right',\n",
    "#             bbox=dict(boxstyle='round', facecolor='white', alpha=0.8))\n",
    "    \n",
    "#     # Adjust layout\n",
    "#     plt.tight_layout()\n",
    "    \n",
    "#     if save_fig:\n",
    "#         plt.savefig('ve_funnel_plot.pdf', bbox_inches='tight', dpi=300)\n",
    "    \n",
    "#     return ax"
   ]
  },
  {
   "cell_type": "code",
   "execution_count": 227,
   "metadata": {},
   "outputs": [],
   "source": [
    "# create_ve_difference_funnel_plot(paper_ve/100, sample_sizes, paper_ve_methods, save_fig=False)"
   ]
  }
 ],
 "metadata": {
  "kernelspec": {
   "display_name": "Python 3.9.2 64-bit",
   "language": "python",
   "name": "python3"
  },
  "language_info": {
   "codemirror_mode": {
    "name": "ipython",
    "version": 3
   },
   "file_extension": ".py",
   "mimetype": "text/x-python",
   "name": "python",
   "nbconvert_exporter": "python",
   "pygments_lexer": "ipython3",
   "version": "3.10.11"
  },
  "vscode": {
   "interpreter": {
    "hash": "981c73eafd070d074423928c764bc0ec6070d0d9756257c8a20d4d497db442af"
   }
  }
 },
 "nbformat": 4,
 "nbformat_minor": 4
}
