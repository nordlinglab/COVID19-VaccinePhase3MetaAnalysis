{
 "cells": [
  {
   "cell_type": "code",
   "execution_count": null,
   "metadata": {},
   "outputs": [],
   "source": [
    "from rw_ve_plot import *\n",
    "import matplotlib.pyplot as plt\n",
    "import pandas as pd\n",
    "%load_ext autoreload\n",
    "%autoreload 2\n",
    "plt.style.use(r\"./RW_visualization.mplstyle\")\n"
   ]
  },
  {
   "cell_type": "code",
   "execution_count": 16,
   "metadata": {},
   "outputs": [],
   "source": [
    "# import warnings filter\n",
    "# from pandas.core.common import SettingWithCopyWarning\n",
    "import warnings\n",
    "from warnings import simplefilter\n",
    "# ignore all future warnings\n",
    "simplefilter(action='ignore', category=FutureWarning)\n",
    "\n",
    "\n",
    "# warnings.simplefilter(action=\"ignore\", category=SettingWithCopyWarning)\n",
    "pd.options.mode.chained_assignment = None "
   ]
  },
  {
   "cell_type": "code",
   "execution_count": null,
   "metadata": {},
   "outputs": [],
   "source": [
    "# df1 = pd.read_excel(r'C:\\Users\\dipes\\python\\jupyter_notebook_files\\Vaccine details.xlsx')\n",
    "vaccine_detail = pd.read_excel('vaccine_details.xlsx')\n",
    "# vaccine_detail = pd.read_excel('./Vaccine/RW_vaccine_details.xlsx')\n",
    "vaccine_detail.columns = vaccine_detail.columns.str.strip().str.lower().str.replace(' ', '_').\\\n",
    "    str.replace('(', '').str.replace(')', '')\n",
    "\n",
    "# Drop rows if efficacy does not exist\n",
    "vaccine_detail = vaccine_detail[vaccine_detail['efficacy_in_%'] != 'X']\n",
    "\n",
    "# Remove all vaccine\n",
    "vaccine_detail = vaccine_detail[vaccine_detail.vaccine!='All vaccine']"
   ]
  },
  {
   "cell_type": "code",
   "execution_count": null,
   "metadata": {},
   "outputs": [],
   "source": [
    "plot_vaccine_efficacy(vaccine_detail, save_figure=False)"
   ]
  },
  {
   "cell_type": "code",
   "execution_count": null,
   "metadata": {},
   "outputs": [],
   "source": [
    "plot_vaccine_efficacy_variants_group(vaccine_detail, save_figure=False)"
   ]
  },
  {
   "cell_type": "code",
   "execution_count": null,
   "metadata": {},
   "outputs": [],
   "source": [
    "plot_vaccine_efficacy_ave_group(vaccine_detail, save_figure=False)"
   ]
  },
  {
   "cell_type": "code",
   "execution_count": null,
   "metadata": {},
   "outputs": [],
   "source": [
    "plot_vaccine_efficacy_ave_group_for_variants(vaccine_detail, save_figure=False)"
   ]
  },
  {
   "cell_type": "code",
   "execution_count": null,
   "metadata": {},
   "outputs": [],
   "source": [
    "plot_vaccine_efficacy_variants_and_ave_group(vaccine_detail, save_figure=False)"
   ]
  },
  {
   "cell_type": "markdown",
   "metadata": {},
   "source": [
    "Average vaccine efficacy"
   ]
  },
  {
   "cell_type": "code",
   "execution_count": null,
   "metadata": {},
   "outputs": [],
   "source": [
    "# df1 = pd.read_excel(r'C:\\Users\\dipes\\python\\jupyter_notebook_files\\Vaccine details.xlsx')\n",
    "vaccine_detail = pd.read_excel('vaccine_details.xlsx')\n",
    "# vaccine_detail = pd.read_excel('./Vaccine/RW_vaccine_details.xlsx')\n",
    "vaccine_detail.columns = vaccine_detail.columns.str.strip().str.lower().str.replace(' ', '_').\\\n",
    "    str.replace('(', '').str.replace(')', '')\n",
    "\n",
    "# Drop rows if efficacy does not exist\n",
    "vaccine_detail = vaccine_detail[vaccine_detail['efficacy_in_%'] != 'X']\n",
    "\n",
    "plot_average_vaccine_efficacy(vaccine_detail, save_figure=False)"
   ]
  },
  {
   "cell_type": "markdown",
   "metadata": {},
   "source": [
    "Use my reproduced vaccine efficacy"
   ]
  },
  {
   "cell_type": "code",
   "execution_count": 24,
   "metadata": {},
   "outputs": [],
   "source": [
    "# Run vaccine_efficacy_CIs.ipynb to update the data\n",
    "# df1 = pd.read_excel(r'C:\\Users\\dipes\\python\\jupyter_notebook_files\\Vaccine details.xlsx')\n",
    "vaccine_detail = pd.read_excel('rw_vaccine_details.xlsx')\n",
    "# vaccine_detail = pd.read_excel('./Vaccine/RW_vaccine_details.xlsx')\n",
    "vaccine_detail.columns = vaccine_detail.columns.str.strip().str.lower().str.replace(' ', '_').\\\n",
    "    str.replace('(', '').str.replace(')', '')\n",
    "\n",
    "# Remove all vaccine\n",
    "vaccine_detail = vaccine_detail[vaccine_detail.vaccine!='All vaccine']"
   ]
  },
  {
   "cell_type": "code",
   "execution_count": 25,
   "metadata": {},
   "outputs": [],
   "source": [
    "# Replace the vaccine efficacy and Ci by my estimations\n",
    "vaccine_detail['efficacy_in_%'] = vaccine_detail['rw_efficacy_in_%']\n",
    "vaccine_detail['lower'] = vaccine_detail['rw_lower']\n",
    "vaccine_detail['upper'] = vaccine_detail['rw_upper']"
   ]
  },
  {
   "cell_type": "code",
   "execution_count": 26,
   "metadata": {},
   "outputs": [],
   "source": [
    "# Drop empty vaccine efficacy\n",
    "vaccine_detail = vaccine_detail[~np.isnan(vaccine_detail['efficacy_in_%'])]"
   ]
  },
  {
   "cell_type": "code",
   "execution_count": null,
   "metadata": {},
   "outputs": [],
   "source": [
    "vaccine_detail"
   ]
  },
  {
   "cell_type": "code",
   "execution_count": null,
   "metadata": {},
   "outputs": [],
   "source": [
    "plot_vaccine_efficacy_ave_group_for_original(vaccine_detail, save_figure=False)"
   ]
  },
  {
   "cell_type": "code",
   "execution_count": null,
   "metadata": {},
   "outputs": [],
   "source": [
    "plot_vaccine_efficacy_ave_group_for_variants(vaccine_detail, save_figure=False)"
   ]
  }
 ],
 "metadata": {
  "interpreter": {
   "hash": "981c73eafd070d074423928c764bc0ec6070d0d9756257c8a20d4d497db442af"
  },
  "kernelspec": {
   "display_name": "Python 3",
   "language": "python",
   "name": "python3"
  },
  "language_info": {
   "codemirror_mode": {
    "name": "ipython",
    "version": 3
   },
   "file_extension": ".py",
   "mimetype": "text/x-python",
   "name": "python",
   "nbconvert_exporter": "python",
   "pygments_lexer": "ipython3",
   "version": "3.10.11"
  }
 },
 "nbformat": 4,
 "nbformat_minor": 4
}
