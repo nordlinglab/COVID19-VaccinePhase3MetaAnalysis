{
 "cells": [
  {
   "cell_type": "code",
   "execution_count": 1,
   "metadata": {},
   "outputs": [],
   "source": [
    "from rw_ve_plot import *\n",
    "import matplotlib.pyplot as plt\n",
    "import pandas as pd\n",
    "%load_ext autoreload\n",
    "%autoreload 2\n",
    "plt.style.use(r\"./RW_visualization.mplstyle\")\n"
   ]
  },
  {
   "cell_type": "code",
   "execution_count": 2,
   "metadata": {},
   "outputs": [],
   "source": [
    "# import warnings filter\n",
    "# from pandas.core.common import SettingWithCopyWarning\n",
    "import warnings\n",
    "from warnings import simplefilter\n",
    "# ignore all future warnings\n",
    "simplefilter(action='ignore', category=FutureWarning)\n",
    "\n",
    "\n",
    "# warnings.simplefilter(action=\"ignore\", category=SettingWithCopyWarning)\n",
    "pd.options.mode.chained_assignment = None "
   ]
  },
  {
   "cell_type": "code",
   "execution_count": null,
   "metadata": {},
   "outputs": [],
   "source": [
    "# df1 = pd.read_excel(r'C:\\Users\\dipes\\python\\jupyter_notebook_files\\Vaccine details.xlsx')\n",
    "vaccine_detail = pd.read_excel('vaccine_details.xlsx')\n",
    "# vaccine_detail = pd.read_excel('./Vaccine/RW_vaccine_details.xlsx')\n",
    "vaccine_detail.columns = vaccine_detail.columns.str.strip().str.lower().str.replace(' ', '_').\\\n",
    "    str.replace('(', '').str.replace(')', '')\n",
    "\n",
    "# Drop rows if efficacy does not exist\n",
    "vaccine_detail = vaccine_detail[vaccine_detail['efficacy_in_%'] != 'X']\n",
    "\n",
    "# Remove all vaccine\n",
    "vaccine_detail = vaccine_detail[vaccine_detail.vaccine!='All vaccine']"
   ]
  },
  {
   "cell_type": "code",
   "execution_count": null,
   "metadata": {},
   "outputs": [],
   "source": [
    "plot_vaccine_efficacy(vaccine_detail, save_figure=False)"
   ]
  },
  {
   "cell_type": "code",
   "execution_count": null,
   "metadata": {},
   "outputs": [],
   "source": [
    "plot_vaccine_efficacy_variants_group(vaccine_detail, save_figure=False)"
   ]
  },
  {
   "cell_type": "code",
   "execution_count": null,
   "metadata": {},
   "outputs": [],
   "source": [
    "plot_vaccine_efficacy_ave_group(vaccine_detail, save_figure=False)"
   ]
  },
  {
   "cell_type": "code",
   "execution_count": null,
   "metadata": {},
   "outputs": [],
   "source": [
    "plot_vaccine_efficacy_ave_group_for_variants(vaccine_detail, save_figure=False)"
   ]
  },
  {
   "cell_type": "code",
   "execution_count": null,
   "metadata": {},
   "outputs": [],
   "source": [
    "plot_vaccine_efficacy_variants_and_ave_group(vaccine_detail, save_figure=False)"
   ]
  },
  {
   "cell_type": "markdown",
   "metadata": {},
   "source": [
    "Average vaccine efficacy"
   ]
  },
  {
   "cell_type": "code",
   "execution_count": null,
   "metadata": {},
   "outputs": [],
   "source": [
    "# df1 = pd.read_excel(r'C:\\Users\\dipes\\python\\jupyter_notebook_files\\Vaccine details.xlsx')\n",
    "vaccine_detail = pd.read_excel('vaccine_details.xlsx')\n",
    "# vaccine_detail = pd.read_excel('./Vaccine/RW_vaccine_details.xlsx')\n",
    "vaccine_detail.columns = vaccine_detail.columns.str.strip().str.lower().str.replace(' ', '_').\\\n",
    "    str.replace('(', '').str.replace(')', '')\n",
    "\n",
    "# Drop rows if efficacy does not exist\n",
    "vaccine_detail = vaccine_detail[vaccine_detail['efficacy_in_%'] != 'X']\n",
    "\n",
    "plot_average_vaccine_efficacy(vaccine_detail, save_figure=False)"
   ]
  },
  {
   "cell_type": "markdown",
   "metadata": {},
   "source": [
    "Use my reproduced vaccine efficacy"
   ]
  },
  {
   "cell_type": "code",
   "execution_count": 10,
   "metadata": {},
   "outputs": [],
   "source": [
    "# Run vaccine_efficacy_CIs.ipynb to update the data\n",
    "# df1 = pd.read_excel(r'C:\\Users\\dipes\\python\\jupyter_notebook_files\\Vaccine details.xlsx')\n",
    "vaccine_detail = pd.read_excel('rw_vaccine_details.xlsx')\n",
    "# vaccine_detail = pd.read_excel('./Vaccine/RW_vaccine_details.xlsx')\n",
    "vaccine_detail.columns = vaccine_detail.columns.str.strip().str.lower().str.replace(' ', '_').\\\n",
    "    str.replace('(', '').str.replace(')', '')\n",
    "\n",
    "# Remove all vaccine\n",
    "vaccine_detail = vaccine_detail[vaccine_detail.vaccine!='All vaccine']"
   ]
  },
  {
   "cell_type": "code",
   "execution_count": 11,
   "metadata": {},
   "outputs": [],
   "source": [
    "# Replace the vaccine efficacy and Ci by my estimations\n",
    "vaccine_detail['efficacy_in_%'] = vaccine_detail['rw_efficacy_in_%']\n",
    "vaccine_detail['lower'] = vaccine_detail['rw_lower']\n",
    "vaccine_detail['upper'] = vaccine_detail['rw_upper']"
   ]
  },
  {
   "cell_type": "code",
   "execution_count": 12,
   "metadata": {},
   "outputs": [],
   "source": [
    "# Drop empty vaccine efficacy\n",
    "vaccine_detail = vaccine_detail[~np.isnan(vaccine_detail['efficacy_in_%'])]"
   ]
  },
  {
   "cell_type": "code",
   "execution_count": null,
   "metadata": {},
   "outputs": [],
   "source": [
    "vaccine_detail"
   ]
  },
  {
   "cell_type": "code",
   "execution_count": null,
   "metadata": {},
   "outputs": [],
   "source": [
    "plot_vaccine_efficacy_ave_group_for_original(vaccine_detail, save_figure=False)"
   ]
  },
  {
   "cell_type": "code",
   "execution_count": null,
   "metadata": {},
   "outputs": [],
   "source": [
    "plot_vaccine_efficacy_ave_group_for_variants(vaccine_detail, save_figure=False)"
   ]
  },
  {
   "cell_type": "code",
   "execution_count": 52,
   "metadata": {},
   "outputs": [],
   "source": [
    "def plot_vaccine_efficacy_ave_platform(vaccine_detail, save_fig=False):\n",
    "    \"\"\"\n",
    "    Create separate forest plots for vaccine efficacy for each platform\n",
    "    \n",
    "    Parameters:\n",
    "    vaccine_detail (pd.DataFrame): DataFrame containing vaccine details and efficacy data\n",
    "    save_fig (bool): Whether to save the figure\n",
    "    \"\"\"\n",
    "    # Get unique platforms\n",
    "    platform_unique = np.sort(vaccine_detail['platform'].unique())\n",
    "    \n",
    "    # Plot for each platform\n",
    "    for platform_idx, platform in enumerate(platform_unique):\n",
    "        platform_data = vaccine_detail[vaccine_detail['platform'] == platform]\n",
    "        vaccine_name_unique = np.sort(platform_data['vaccine'].unique())\n",
    "        \n",
    "        # Create color palette for this platform's plot\n",
    "        palette = sns.color_palette('Set1', n_colors=len(vaccine_name_unique)+2)\n",
    "        palette = palette[0:5] + palette[6:14] + palette[15::]\n",
    "        \n",
    "        # Initialize index tracking\n",
    "        index = np.array([0])\n",
    "        index_temp = 0\n",
    "        \n",
    "        # Create figure for this platform\n",
    "        fig = plt.figure(figsize=(10, len(platform_data.vaccine)*0.35))\n",
    "        ax = fig.add_subplot(111)\n",
    "        \n",
    "        # For each vaccine in this platform\n",
    "        print(f'Platform: {platform}')\n",
    "        for i in vaccine_name_unique:\n",
    "            vaccine_data = platform_data[platform_data['vaccine'] == i]\n",
    "            \n",
    "            # Get efficacy and confidence bounds\n",
    "            try:\n",
    "                efficacy = vaccine_data['vaccine_efficacy']\n",
    "            except:\n",
    "                efficacy = vaccine_data['efficacy_in_%']\n",
    "                \n",
    "            try:\n",
    "                lower_bounds = vaccine_data['lower_bound']\n",
    "            except:\n",
    "                lower_bounds = vaccine_data['lower']\n",
    "                \n",
    "            try:\n",
    "                upper_bounds = vaccine_data['upper_bound']\n",
    "            except:\n",
    "                upper_bounds = vaccine_data['upper']\n",
    "            \n",
    "            # Handle missing values in bounds\n",
    "            lower_bounds[lower_bounds.index[\n",
    "                (lower_bounds == 'X') | (lower_bounds == '-')].tolist()] \\\n",
    "                = efficacy[lower_bounds.index[\n",
    "                    (lower_bounds == 'X') | (lower_bounds == '-')].tolist()]\n",
    "            upper_bounds[upper_bounds.index[\n",
    "                (upper_bounds == 'X') | (upper_bounds == '-')].tolist()] \\\n",
    "                = efficacy[upper_bounds.index[\n",
    "                    (upper_bounds == 'X') | (upper_bounds == '-')].tolist()]\n",
    "            \n",
    "            # Convert to numpy arrays\n",
    "            efficacy = efficacy.to_numpy()\n",
    "            lower_bounds = lower_bounds.to_numpy()\n",
    "            upper_bounds = upper_bounds.to_numpy()\n",
    "            \n",
    "            # Plot points\n",
    "            for j in range(len(efficacy)):\n",
    "                if lower_bounds[j] == 0 and upper_bounds[j] == 0:\n",
    "                    ax.errorbar(efficacy[j], j+index[-1],\n",
    "                               xerr=np.array([[0, 0]]).T, \n",
    "                               fmt='o', \n",
    "                               color=palette[len(index)-1])\n",
    "                else:\n",
    "                    ax.errorbar(efficacy[j], j+index[-1],\n",
    "                               xerr=np.array([[max(0, efficacy[j]-lower_bounds[j]),\n",
    "                                             max(0, upper_bounds[j]-efficacy[j])]]).T, \n",
    "                               fmt='o', \n",
    "                               color=palette[len(index)-1])\n",
    "                index_temp += 1\n",
    "            index = np.append(index, index_temp)\n",
    "        \n",
    "        # Add reference lines\n",
    "        ax.plot([30, 30], [-1, index_temp], 'k--')\n",
    "        ax.plot([50, 50], [-1, index_temp], 'k--')\n",
    "        \n",
    "        # Customize plot\n",
    "        # ax.set_title(f'Platform: {platform}', fontsize=16)\n",
    "        ax.set_xlabel('Efficacy (%)', fontsize=14)\n",
    "        ax.set_xticks(np.arange(0, 110, 10))\n",
    "        ax.set_yticks(index[0:-1])\n",
    "        ax.set_yticklabels(vaccine_name_unique, fontsize=12)\n",
    "        ax.set_ylim([-1, index_temp])\n",
    "        ax.set_xlim([0, 100])\n",
    "        \n",
    "        # Invert y-axis and add grid\n",
    "        plt.gca().invert_yaxis()\n",
    "        plt.gca().yaxis.grid()\n",
    "        \n",
    "        # Add tight layout\n",
    "        plt.tight_layout()\n",
    "        \n",
    "        # Save figure if requested\n",
    "        if save_fig:\n",
    "            plt.savefig(f'RW2025_vaccine_efficacy_{platform.replace(\"/\", \"_\").lower()}.pdf', bbox_inches='tight')\n",
    "        \n",
    "        plt.show()"
   ]
  },
  {
   "cell_type": "code",
   "execution_count": null,
   "metadata": {},
   "outputs": [],
   "source": [
    "plot_vaccine_efficacy_ave_platform(vaccine_detail, save_fig=True)"
   ]
  },
  {
   "cell_type": "markdown",
   "metadata": {},
   "source": [
    "## Calculate the overall VE categorized by platform"
   ]
  },
  {
   "cell_type": "code",
   "execution_count": null,
   "metadata": {},
   "outputs": [],
   "source": [
    "vaccine_detail"
   ]
  },
  {
   "cell_type": "code",
   "execution_count": 77,
   "metadata": {},
   "outputs": [],
   "source": [
    "def VE_platform(vaccine_detail, platform):\n",
    "    vaccine_data = vaccine_detail[vaccine_detail['platform'] == platform].copy()\n",
    "    print(vaccine_data)\n",
    "\n",
    "    xv = vaccine_data['no_of_participants_in_vaccine_group']\n",
    "    xp = vaccine_data['no_of_participants_in_placebo_groupcontrol_group']\n",
    "    xve = vaccine_data['no_of_infected_in_vaccine_group']\n",
    "    xpe = vaccine_data['no_of_infected_in_placebo_group']\n",
    "\n",
    "    xv_all = np.sum(xv)\n",
    "    xp_all = np.sum(xp)\n",
    "    xve_all = np.sum(xve)\n",
    "    xpe_all = np.sum(xpe)\n",
    "\n",
    "    r1 = xve_all/xv_all\n",
    "    r2 = xpe_all/xp_all\n",
    "    theta = r1/r2\n",
    "    VE = 1-theta\n",
    "    \n",
    "    variance = 1/xve_all - 1/xv_all + 1/xpe_all - 1/xp_all\n",
    "    se = np.sqrt(variance)\n",
    "    lb = 1-theta*np.exp(1.96*se)\n",
    "    hb = 1-theta*np.exp(-1.96*se)\n",
    "\n",
    "    print(f'{platform}: {VE*100:.1f}% [{lb*100:.1f}%, {hb*100:.1f}%]')\n"
   ]
  },
  {
   "cell_type": "code",
   "execution_count": null,
   "metadata": {},
   "outputs": [],
   "source": [
    "VE_platform(vaccine_detail, 'Inactivated')"
   ]
  },
  {
   "cell_type": "code",
   "execution_count": null,
   "metadata": {},
   "outputs": [],
   "source": [
    "for platform in sorted(vaccine_detail['platform'].unique()):\n",
    "    VE_platform(vaccine_detail, platform)"
   ]
  }
 ],
 "metadata": {
  "interpreter": {
   "hash": "981c73eafd070d074423928c764bc0ec6070d0d9756257c8a20d4d497db442af"
  },
  "kernelspec": {
   "display_name": "Python 3",
   "language": "python",
   "name": "python3"
  },
  "language_info": {
   "codemirror_mode": {
    "name": "ipython",
    "version": 3
   },
   "file_extension": ".py",
   "mimetype": "text/x-python",
   "name": "python",
   "nbconvert_exporter": "python",
   "pygments_lexer": "ipython3",
   "version": "3.10.11"
  }
 },
 "nbformat": 4,
 "nbformat_minor": 4
}
